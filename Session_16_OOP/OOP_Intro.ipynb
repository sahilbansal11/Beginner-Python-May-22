{
  "nbformat": 4,
  "nbformat_minor": 0,
  "metadata": {
    "colab": {
      "name": "OOP - Intro.ipynb",
      "provenance": [],
      "collapsed_sections": []
    },
    "kernelspec": {
      "name": "python3",
      "display_name": "Python 3"
    },
    "language_info": {
      "name": "python"
    }
  },
  "cells": [
    {
      "cell_type": "code",
      "execution_count": 70,
      "metadata": {
        "id": "mzyZLezs-VGG"
      },
      "outputs": [],
      "source": [
        "## Till Now"
      ]
    },
    {
      "cell_type": "markdown",
      "source": [
        "- variables\n",
        "- basic data types\n",
        "   * string\n",
        "   * integer\n",
        "   * float\n",
        "   * bool\n",
        "- data structures - inbuilt in Python\n",
        "   * list\n",
        "   * tuples (covered in Intermediate)\n",
        "   * dictionaries (covered in Intermediate)\n",
        "   * sets (covered in Intermediate)"
      ],
      "metadata": {
        "id": "6QTequmrCxrM"
      }
    },
    {
      "cell_type": "code",
      "source": [
        "x = 3\n",
        "print(type(x))"
      ],
      "metadata": {
        "colab": {
          "base_uri": "https://localhost:8080/"
        },
        "id": "xxva8EbMDJvP",
        "outputId": "e334702f-93bb-4782-d4e8-ad1f4f74beca"
      },
      "execution_count": null,
      "outputs": [
        {
          "output_type": "stream",
          "name": "stdout",
          "text": [
            "<class 'int'>\n"
          ]
        }
      ]
    },
    {
      "cell_type": "code",
      "source": [
        "y = \"hello\"\n",
        "print(type(y))"
      ],
      "metadata": {
        "colab": {
          "base_uri": "https://localhost:8080/"
        },
        "id": "fVfmQOJ-DTLJ",
        "outputId": "9ccc6eee-61a8-4fcf-90cf-e20d01124b12"
      },
      "execution_count": null,
      "outputs": [
        {
          "output_type": "stream",
          "name": "stdout",
          "text": [
            "<class 'str'>\n"
          ]
        }
      ]
    },
    {
      "cell_type": "code",
      "source": [
        "z = True\n",
        "print(type(z))"
      ],
      "metadata": {
        "colab": {
          "base_uri": "https://localhost:8080/"
        },
        "id": "s0XRYF9NDpIY",
        "outputId": "33e8a3f5-2e02-46d0-a9ec-a81fd9c23364"
      },
      "execution_count": null,
      "outputs": [
        {
          "output_type": "stream",
          "name": "stdout",
          "text": [
            "<class 'bool'>\n"
          ]
        }
      ]
    },
    {
      "cell_type": "code",
      "source": [
        "a = 0.55\n",
        "print(type(a))"
      ],
      "metadata": {
        "colab": {
          "base_uri": "https://localhost:8080/"
        },
        "id": "E_5lgc8vDug7",
        "outputId": "c2dfcd78-9eed-49dd-942a-f7a0b8e5a0d5"
      },
      "execution_count": null,
      "outputs": [
        {
          "output_type": "stream",
          "name": "stdout",
          "text": [
            "<class 'float'>\n"
          ]
        }
      ]
    },
    {
      "cell_type": "code",
      "source": [
        "l = [1, 5, -1, 2]\n",
        "print(type(l))"
      ],
      "metadata": {
        "colab": {
          "base_uri": "https://localhost:8080/"
        },
        "id": "I6qf4IOKDw89",
        "outputId": "048941b3-9374-4e87-d7ff-4add205bac16"
      },
      "execution_count": null,
      "outputs": [
        {
          "output_type": "stream",
          "name": "stdout",
          "text": [
            "<class 'list'>\n"
          ]
        }
      ]
    },
    {
      "cell_type": "code",
      "source": [
        "l.append(10)"
      ],
      "metadata": {
        "id": "7Cffie0ZD6Qr"
      },
      "execution_count": null,
      "outputs": []
    },
    {
      "cell_type": "code",
      "source": [
        "print(l)"
      ],
      "metadata": {
        "colab": {
          "base_uri": "https://localhost:8080/"
        },
        "id": "9d2WfU4fEHJE",
        "outputId": "2b5a8692-1d61-4580-cf6e-a30ce30d33d4"
      },
      "execution_count": null,
      "outputs": [
        {
          "output_type": "stream",
          "name": "stdout",
          "text": [
            "[1, 5, -1, 2, 10]\n"
          ]
        }
      ]
    },
    {
      "cell_type": "code",
      "source": [
        "print(len(l))"
      ],
      "metadata": {
        "colab": {
          "base_uri": "https://localhost:8080/"
        },
        "id": "AuouTx5sEIAI",
        "outputId": "5aa61fc0-4b4c-46cb-a7ce-5e4e810d6438"
      },
      "execution_count": null,
      "outputs": [
        {
          "output_type": "stream",
          "name": "stdout",
          "text": [
            "5\n"
          ]
        }
      ]
    },
    {
      "cell_type": "code",
      "source": [
        "# Everything we defined above, is an object in python like int, str, float"
      ],
      "metadata": {
        "id": "0rBXxWqZEP1H"
      },
      "execution_count": null,
      "outputs": []
    },
    {
      "cell_type": "markdown",
      "source": [
        "## Banking Application\n",
        "\n",
        "- Customers\n",
        "- Bank Accounts\n",
        "- Transactions"
      ],
      "metadata": {
        "id": "2p04jDGJEx9V"
      }
    },
    {
      "cell_type": "markdown",
      "source": [
        "## Object Oriented Programming (OOPs)\n",
        "\n",
        "- map real world objects in our code\n",
        "\n",
        "What are the advantages?\n",
        "- Better readability\n",
        "- Better maintenance\n",
        "- Modular: easy to reuse, replace, debug, etc.\n",
        "- More flexible"
      ],
      "metadata": {
        "id": "kSGd6xyoFG1h"
      }
    },
    {
      "cell_type": "code",
      "source": [
        ""
      ],
      "metadata": {
        "id": "QUw1QK0wFGFF"
      },
      "execution_count": null,
      "outputs": []
    },
    {
      "cell_type": "markdown",
      "source": [
        "### School\n",
        "- Students"
      ],
      "metadata": {
        "id": "U3ddmkctGMA7"
      }
    },
    {
      "cell_type": "code",
      "source": [
        "### 2 Things: Class, Object\n",
        "\n",
        "\n",
        "class Student:\n",
        "  name = 'Sai' # data\n",
        "  roll_number = 321 # data\n"
      ],
      "metadata": {
        "id": "cOeYM5kwGVCj"
      },
      "execution_count": null,
      "outputs": []
    },
    {
      "cell_type": "code",
      "source": [
        "s1 = Student() # an object of Student class\n",
        "\n",
        "s2 = Student() # an object of Student class\n",
        "\n",
        "print(type(s1))\n",
        "print(type(s2))"
      ],
      "metadata": {
        "colab": {
          "base_uri": "https://localhost:8080/"
        },
        "id": "P7v040CTIjkO",
        "outputId": "2155eb20-1d55-4267-ea4a-63cc94508d44"
      },
      "execution_count": null,
      "outputs": [
        {
          "output_type": "stream",
          "name": "stdout",
          "text": [
            "<class '__main__.Student'>\n",
            "<class '__main__.Student'>\n"
          ]
        }
      ]
    },
    {
      "cell_type": "code",
      "source": [
        "## How to access this data?\n",
        "\n",
        "print(s1.name)"
      ],
      "metadata": {
        "colab": {
          "base_uri": "https://localhost:8080/"
        },
        "id": "-RWfc5tiIrg1",
        "outputId": "ec822dca-21b0-42f4-fc6e-f61857c632f3"
      },
      "execution_count": null,
      "outputs": [
        {
          "output_type": "stream",
          "name": "stdout",
          "text": [
            "Sai\n"
          ]
        }
      ]
    },
    {
      "cell_type": "code",
      "source": [
        "print(s2.name)"
      ],
      "metadata": {
        "colab": {
          "base_uri": "https://localhost:8080/"
        },
        "id": "9gpT7F0kJMO9",
        "outputId": "c1eb26cf-4d03-41d2-bb01-9eca7d435ede"
      },
      "execution_count": null,
      "outputs": [
        {
          "output_type": "stream",
          "name": "stdout",
          "text": [
            "Sai\n"
          ]
        }
      ]
    },
    {
      "cell_type": "code",
      "source": [
        "print(s1.roll_number)\n",
        "print(s2.roll_number)"
      ],
      "metadata": {
        "colab": {
          "base_uri": "https://localhost:8080/"
        },
        "id": "D2rLeYeiJNS7",
        "outputId": "98532f0a-c8a4-452e-ad19-cb10ade48b2d"
      },
      "execution_count": null,
      "outputs": [
        {
          "output_type": "stream",
          "name": "stdout",
          "text": [
            "321\n",
            "321\n"
          ]
        }
      ]
    },
    {
      "cell_type": "code",
      "source": [
        "print(s1)"
      ],
      "metadata": {
        "colab": {
          "base_uri": "https://localhost:8080/"
        },
        "id": "wc1RLy_QJRDb",
        "outputId": "5b01774a-ed0d-41bb-c4f3-37b6db2aee1f"
      },
      "execution_count": null,
      "outputs": [
        {
          "output_type": "stream",
          "name": "stdout",
          "text": [
            "<__main__.Student object at 0x7effd324de90>\n"
          ]
        }
      ]
    },
    {
      "cell_type": "code",
      "source": [
        "print(s2)"
      ],
      "metadata": {
        "colab": {
          "base_uri": "https://localhost:8080/"
        },
        "id": "nusNKy33J7u_",
        "outputId": "c14b3d7d-4d05-4749-e498-c354359982f5"
      },
      "execution_count": null,
      "outputs": [
        {
          "output_type": "stream",
          "name": "stdout",
          "text": [
            "<__main__.Student object at 0x7effd322f1d0>\n"
          ]
        }
      ]
    },
    {
      "cell_type": "code",
      "source": [
        "s1.name = 'Riyon'\n",
        "\n",
        "s2.name = 'Sahil'\n",
        "\n",
        "print(s1.name, s1.roll_number)\n",
        "print(s2.name, s2.roll_number)"
      ],
      "metadata": {
        "colab": {
          "base_uri": "https://localhost:8080/"
        },
        "id": "jFLcbGbVKVAX",
        "outputId": "ddc21c1e-dfdd-4eb9-ab9a-df2fa9c10018"
      },
      "execution_count": null,
      "outputs": [
        {
          "output_type": "stream",
          "name": "stdout",
          "text": [
            "Riyon 321\n",
            "Sahil 321\n"
          ]
        }
      ]
    },
    {
      "cell_type": "code",
      "source": [
        ""
      ],
      "metadata": {
        "id": "vFB5urYVLRZ1"
      },
      "execution_count": null,
      "outputs": []
    },
    {
      "cell_type": "markdown",
      "source": [
        "### Requirement: To store the name of the student while creating the object"
      ],
      "metadata": {
        "id": "yYJFjtppLjg4"
      }
    },
    {
      "cell_type": "code",
      "source": [
        "class Student:\n",
        "  \n",
        "  def __init__(self, name):\n",
        "    self.name = name\n",
        "\n",
        "\n"
      ],
      "metadata": {
        "id": "n1xw_yrNLnfF"
      },
      "execution_count": null,
      "outputs": []
    },
    {
      "cell_type": "code",
      "source": [
        "s1 = Student(\"Mahesh\") # able to initialize the name, create object with name\n",
        "\n",
        "s2 = Student(\"Rajat\")\n",
        "\n",
        "print(s1.name)\n",
        "print(s2.name)"
      ],
      "metadata": {
        "colab": {
          "base_uri": "https://localhost:8080/"
        },
        "id": "Omym2wrpMYQJ",
        "outputId": "dd3d0ac5-a75c-4665-fac9-5a6c6468a7f3"
      },
      "execution_count": null,
      "outputs": [
        {
          "output_type": "stream",
          "name": "stdout",
          "text": [
            "Mahesh\n",
            "Rajat\n"
          ]
        }
      ]
    },
    {
      "cell_type": "code",
      "source": [
        "class Student:\n",
        "  \n",
        "  # this special function: dunder init (double underscore init double underscore)\n",
        "  # --> called as constructor\n",
        "\n",
        "  # self is nothing but the object on which you are working\n",
        "  def __init__(myownself, name):\n",
        "    print('Printing self inside the constructor:')\n",
        "    print(myownself)\n",
        "    myownself.name = name\n",
        "\n",
        "\n",
        "s1 = Student(\"Mahesh\") # able to initialize the name, create object with name\n",
        "print()\n",
        "\n",
        "print('Printing s1 outside:')\n",
        "print(s1)\n",
        "print(s1.name)"
      ],
      "metadata": {
        "colab": {
          "base_uri": "https://localhost:8080/"
        },
        "id": "uYcnb0m9Md8y",
        "outputId": "28999f68-eaca-40f6-b341-6c31a2051d7b"
      },
      "execution_count": null,
      "outputs": [
        {
          "output_type": "stream",
          "name": "stdout",
          "text": [
            "Printing self inside the constructor:\n",
            "<__main__.Student object at 0x7effd316b750>\n",
            "\n",
            "Printing s1 outside:\n",
            "<__main__.Student object at 0x7effd316b750>\n",
            "Mahesh\n"
          ]
        }
      ]
    },
    {
      "cell_type": "code",
      "source": [
        "class Student:\n",
        "  \n",
        "  # this special function: dunder init (double underscore init double underscore)\n",
        "  # --> called as constructor\n",
        "  # automatically called when you create an object\n",
        "\n",
        "  # self is nothing but the object on which you are working\n",
        "  def __init__(self, input_name):\n",
        "    # self WILL ALWAYS BE the first argument\n",
        "    print('Printing self inside the constructor:')\n",
        "    print(self)\n",
        "    # assigning the data\n",
        "    self.name = input_name\n",
        "\n",
        "\n",
        "s1 = Student(\"x\") # able to initialize the name, create object with name\n",
        "print()\n",
        "\n",
        "print('Printing s1 outside:')\n",
        "print(s1)\n",
        "\n",
        "print()\n",
        "print(s1.name)"
      ],
      "metadata": {
        "colab": {
          "base_uri": "https://localhost:8080/"
        },
        "id": "7z5uLUdYSayK",
        "outputId": "f7a67cdc-9257-4666-dc20-143dce1d2397"
      },
      "execution_count": null,
      "outputs": [
        {
          "output_type": "stream",
          "name": "stdout",
          "text": [
            "Printing self inside the constructor:\n",
            "<__main__.Student object at 0x7effd31b7090>\n",
            "\n",
            "Printing s1 outside:\n",
            "<__main__.Student object at 0x7effd31b7090>\n",
            "\n",
            "x\n"
          ]
        }
      ]
    },
    {
      "cell_type": "code",
      "source": [
        ""
      ],
      "metadata": {
        "id": "s1U8FpRmQ-du"
      },
      "execution_count": null,
      "outputs": []
    },
    {
      "cell_type": "code",
      "source": [
        "class Student:\n",
        "\n",
        "  def __init__(self, input_name, input_roll_number = -1):\n",
        "    self.name = input_name\n",
        "    self.roll_number = input_roll_number\n",
        "\n",
        "\n",
        "s1 = Student('Sahil', 8)\n",
        "\n",
        "s2 = Student('Sanjana', 4)\n",
        "\n"
      ],
      "metadata": {
        "id": "nEb0Ea43UhPQ"
      },
      "execution_count": null,
      "outputs": []
    },
    {
      "cell_type": "code",
      "source": [
        "print(s1.name, s1.roll_number)"
      ],
      "metadata": {
        "colab": {
          "base_uri": "https://localhost:8080/"
        },
        "id": "KEEqROy-U6VP",
        "outputId": "3dae8721-8c58-4d26-c036-e5dd40e8b4bd"
      },
      "execution_count": null,
      "outputs": [
        {
          "output_type": "stream",
          "name": "stdout",
          "text": [
            "Sahil 8\n"
          ]
        }
      ]
    },
    {
      "cell_type": "code",
      "source": [
        "print(s2.name, s2.roll_number)"
      ],
      "metadata": {
        "colab": {
          "base_uri": "https://localhost:8080/"
        },
        "id": "ABxdYU46U-ai",
        "outputId": "09cb9906-5d9c-4381-ae23-f6eb697153d6"
      },
      "execution_count": null,
      "outputs": [
        {
          "output_type": "stream",
          "name": "stdout",
          "text": [
            "Sanjana 4\n"
          ]
        }
      ]
    },
    {
      "cell_type": "code",
      "source": [
        "s1.roll_number = 17\n",
        "print(s1.name, s1.roll_number)"
      ],
      "metadata": {
        "colab": {
          "base_uri": "https://localhost:8080/"
        },
        "id": "knVDq0vsVDpG",
        "outputId": "20775052-0e79-4cab-e7b4-f30c17b77ce8"
      },
      "execution_count": null,
      "outputs": [
        {
          "output_type": "stream",
          "name": "stdout",
          "text": [
            "Sahil 17\n"
          ]
        }
      ]
    },
    {
      "cell_type": "code",
      "source": [
        ""
      ],
      "metadata": {
        "id": "iUL0Oz1MVNxw"
      },
      "execution_count": null,
      "outputs": []
    },
    {
      "cell_type": "code",
      "source": [
        "s1 = Student('Sahil')\n",
        "print(s1.name, s1.roll_number)"
      ],
      "metadata": {
        "colab": {
          "base_uri": "https://localhost:8080/"
        },
        "id": "eYwBU8GWVSdF",
        "outputId": "46e832d3-efa8-4951-8e6a-0384ed69640e"
      },
      "execution_count": null,
      "outputs": [
        {
          "output_type": "stream",
          "name": "stdout",
          "text": [
            "Sahil -1\n"
          ]
        }
      ]
    },
    {
      "cell_type": "code",
      "source": [
        ""
      ],
      "metadata": {
        "id": "wz96FEwzVW8D"
      },
      "execution_count": null,
      "outputs": []
    },
    {
      "cell_type": "markdown",
      "source": [
        "## Quiz"
      ],
      "metadata": {
        "id": "5iP9RMjMVq7E"
      }
    },
    {
      "cell_type": "code",
      "source": [
        "class Vehicle:\n",
        "    def __init__(self, name):\n",
        "        self.name = name\n",
        "\n",
        "v = Vehicle()"
      ],
      "metadata": {
        "colab": {
          "base_uri": "https://localhost:8080/",
          "height": 223
        },
        "id": "KPIX91BtVrf2",
        "outputId": "48c5b3be-100d-4f08-fcb9-a5202491f0a4"
      },
      "execution_count": null,
      "outputs": [
        {
          "output_type": "error",
          "ename": "TypeError",
          "evalue": "ignored",
          "traceback": [
            "\u001b[0;31m---------------------------------------------------------------------------\u001b[0m",
            "\u001b[0;31mTypeError\u001b[0m                                 Traceback (most recent call last)",
            "\u001b[0;32m<ipython-input-53-64cd109d6101>\u001b[0m in \u001b[0;36m<module>\u001b[0;34m()\u001b[0m\n\u001b[1;32m      3\u001b[0m         \u001b[0mself\u001b[0m\u001b[0;34m.\u001b[0m\u001b[0mname\u001b[0m \u001b[0;34m=\u001b[0m \u001b[0mname\u001b[0m\u001b[0;34m\u001b[0m\u001b[0;34m\u001b[0m\u001b[0m\n\u001b[1;32m      4\u001b[0m \u001b[0;34m\u001b[0m\u001b[0m\n\u001b[0;32m----> 5\u001b[0;31m \u001b[0mv\u001b[0m \u001b[0;34m=\u001b[0m \u001b[0mVehicle\u001b[0m\u001b[0;34m(\u001b[0m\u001b[0;34m)\u001b[0m\u001b[0;34m\u001b[0m\u001b[0;34m\u001b[0m\u001b[0m\n\u001b[0m",
            "\u001b[0;31mTypeError\u001b[0m: __init__() missing 1 required positional argument: 'name'"
          ]
        }
      ]
    },
    {
      "cell_type": "code",
      "source": [
        "class Vehicle:\n",
        "    def __init__(self, name):\n",
        "        self.name = name\n",
        "\n",
        "v = Vehicle.create('minivan')"
      ],
      "metadata": {
        "colab": {
          "base_uri": "https://localhost:8080/",
          "height": 223
        },
        "id": "SoKVCqSIV1j2",
        "outputId": "22be059a-8713-4521-c0b4-e57a9f15e923"
      },
      "execution_count": null,
      "outputs": [
        {
          "output_type": "error",
          "ename": "AttributeError",
          "evalue": "ignored",
          "traceback": [
            "\u001b[0;31m---------------------------------------------------------------------------\u001b[0m",
            "\u001b[0;31mAttributeError\u001b[0m                            Traceback (most recent call last)",
            "\u001b[0;32m<ipython-input-54-3d3497382660>\u001b[0m in \u001b[0;36m<module>\u001b[0;34m()\u001b[0m\n\u001b[1;32m      3\u001b[0m         \u001b[0mself\u001b[0m\u001b[0;34m.\u001b[0m\u001b[0mname\u001b[0m \u001b[0;34m=\u001b[0m \u001b[0mname\u001b[0m\u001b[0;34m\u001b[0m\u001b[0;34m\u001b[0m\u001b[0m\n\u001b[1;32m      4\u001b[0m \u001b[0;34m\u001b[0m\u001b[0m\n\u001b[0;32m----> 5\u001b[0;31m \u001b[0mv\u001b[0m \u001b[0;34m=\u001b[0m \u001b[0mVehicle\u001b[0m\u001b[0;34m.\u001b[0m\u001b[0mcreate\u001b[0m\u001b[0;34m(\u001b[0m\u001b[0;34m'minivan'\u001b[0m\u001b[0;34m)\u001b[0m\u001b[0;34m\u001b[0m\u001b[0;34m\u001b[0m\u001b[0m\n\u001b[0m",
            "\u001b[0;31mAttributeError\u001b[0m: type object 'Vehicle' has no attribute 'create'"
          ]
        }
      ]
    },
    {
      "cell_type": "code",
      "source": [
        "class Vehicle:\n",
        "    def __init__(self, name):\n",
        "        self.name = name\n",
        "\n",
        "v = Vehicle('minivan')\n",
        "print(v.name)"
      ],
      "metadata": {
        "colab": {
          "base_uri": "https://localhost:8080/"
        },
        "id": "ngTwK38mV3sz",
        "outputId": "b73e7f1d-f922-49c4-c267-a2bc26653bef"
      },
      "execution_count": null,
      "outputs": [
        {
          "output_type": "stream",
          "name": "stdout",
          "text": [
            "minivan\n"
          ]
        }
      ]
    },
    {
      "cell_type": "code",
      "source": [
        ""
      ],
      "metadata": {
        "id": "9CLsQ4oJWKXn"
      },
      "execution_count": null,
      "outputs": []
    },
    {
      "cell_type": "markdown",
      "source": [
        "## Some behavior"
      ],
      "metadata": {
        "id": "FCRavFtPWl13"
      }
    },
    {
      "cell_type": "code",
      "source": [
        "class Student:\n",
        "\n",
        "  # default constructor if you don't provide it\n",
        "  def __init__(self):\n",
        "    pass # it's a blank function - does nothing\n",
        "\n",
        "\n",
        "s = Student()"
      ],
      "metadata": {
        "id": "JwifE4jjWnn1"
      },
      "execution_count": null,
      "outputs": []
    },
    {
      "cell_type": "code",
      "source": [
        "# Introduction behavior / method\n",
        "\n",
        "class Student:\n",
        "\n",
        "  def __init__(self, input_name):\n",
        "    self.name = input_name\n",
        "\n",
        "  # who is the student giving the introduction\n",
        "  def intro(self):\n",
        "    print('Hey Everyone! I am', self.name)\n",
        "\n",
        "\n",
        "\n",
        "s = Student('Sahil')\n",
        "s.intro()"
      ],
      "metadata": {
        "colab": {
          "base_uri": "https://localhost:8080/"
        },
        "id": "og_3diMfWv_X",
        "outputId": "5acfd4f7-f7c7-40e8-8c37-eb780a08b573"
      },
      "execution_count": null,
      "outputs": [
        {
          "output_type": "stream",
          "name": "stdout",
          "text": [
            "Hey Everyone! I am Sahil\n"
          ]
        }
      ]
    },
    {
      "cell_type": "code",
      "source": [
        "l = list([1, 2, 3])\n",
        "l.append(5)\n",
        "\n",
        "print(l)"
      ],
      "metadata": {
        "colab": {
          "base_uri": "https://localhost:8080/"
        },
        "id": "DgA9EbojXkg5",
        "outputId": "f5e0428d-e92d-409c-abfe-7b35b4ffd60e"
      },
      "execution_count": null,
      "outputs": [
        {
          "output_type": "stream",
          "name": "stdout",
          "text": [
            "[1, 2, 3, 5]\n"
          ]
        }
      ]
    },
    {
      "cell_type": "code",
      "source": [
        "# Class = Data + Methods"
      ],
      "metadata": {
        "id": "8NDLUbs3YA8n"
      },
      "execution_count": null,
      "outputs": []
    },
    {
      "cell_type": "code",
      "source": [
        "# Introduction behavior / method\n",
        "\n",
        "class Student:\n",
        "\n",
        "  def __init__(self, input_name):\n",
        "    self.name = input_name\n",
        "\n",
        "  # who is the student giving the introduction\n",
        "  def intro(self):\n",
        "    print('Hey Everyone! I am', self.name)\n",
        "\n",
        "\n",
        "s = Student('Sahil')\n",
        "s.intro()\n",
        "\n",
        "s2 = Student('Prakhar')\n",
        "s2.roll_number = 231\n",
        "s2.marks = 100\n",
        "\n",
        "print(s.name)\n",
        "print(s2.roll_number)\n",
        "\n",
        "print(type(s))\n",
        "print(type(s2))"
      ],
      "metadata": {
        "colab": {
          "base_uri": "https://localhost:8080/"
        },
        "id": "K4Cx7eI7YMiy",
        "outputId": "8435147b-75c7-4bb2-f0fa-7ac036f5e27e"
      },
      "execution_count": null,
      "outputs": [
        {
          "output_type": "stream",
          "name": "stdout",
          "text": [
            "Hey Everyone! I am Sahil\n",
            "Sahil\n",
            "231\n",
            "<class '__main__.Student'>\n",
            "<class '__main__.Student'>\n"
          ]
        }
      ]
    },
    {
      "cell_type": "code",
      "source": [
        "class Test:\n",
        "  def __init__():\n",
        "    pass\n",
        "\n",
        "\n",
        "t = Test()"
      ],
      "metadata": {
        "colab": {
          "base_uri": "https://localhost:8080/",
          "height": 223
        },
        "id": "3QmGUgHlbsrx",
        "outputId": "a9c1c34c-9155-48bb-f751-bbe8b1e23597"
      },
      "execution_count": null,
      "outputs": [
        {
          "output_type": "error",
          "ename": "TypeError",
          "evalue": "ignored",
          "traceback": [
            "\u001b[0;31m---------------------------------------------------------------------------\u001b[0m",
            "\u001b[0;31mTypeError\u001b[0m                                 Traceback (most recent call last)",
            "\u001b[0;32m<ipython-input-69-c77c31b3bb1b>\u001b[0m in \u001b[0;36m<module>\u001b[0;34m()\u001b[0m\n\u001b[1;32m      4\u001b[0m \u001b[0;34m\u001b[0m\u001b[0m\n\u001b[1;32m      5\u001b[0m \u001b[0;34m\u001b[0m\u001b[0m\n\u001b[0;32m----> 6\u001b[0;31m \u001b[0mt\u001b[0m \u001b[0;34m=\u001b[0m \u001b[0mTest\u001b[0m\u001b[0;34m(\u001b[0m\u001b[0;34m)\u001b[0m\u001b[0;34m\u001b[0m\u001b[0;34m\u001b[0m\u001b[0m\n\u001b[0m",
            "\u001b[0;31mTypeError\u001b[0m: __init__() takes 0 positional arguments but 1 was given"
          ]
        }
      ]
    },
    {
      "cell_type": "code",
      "source": [
        ""
      ],
      "metadata": {
        "id": "WFq9N8yZcuya"
      },
      "execution_count": null,
      "outputs": []
    }
  ]
}